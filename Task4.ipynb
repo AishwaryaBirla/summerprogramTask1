{
 "cells": [
  {
   "cell_type": "markdown",
   "metadata": {},
   "source": [
    "# Task 4.1: create own images using cv2\n"
   ]
  },
  {
   "cell_type": "code",
   "execution_count": 338,
   "metadata": {},
   "outputs": [],
   "source": [
    "#capture image and resize it to small size to that we can create interesting patters\n",
    "import cv2\n",
    "capture=cv2.VideoCapture(0)\n",
    "ret,cp=capture.read()\n",
    "capture.release()\n",
    "pic = cv2.resize(cp, (0, 0), fx =0.3, fy = 0.3)\n"
   ]
  },
  {
   "cell_type": "code",
   "execution_count": 339,
   "metadata": {},
   "outputs": [],
   "source": [
    "#black baground to create patters on, you can use PIL moudle anf create bkack image\n",
    "for i in range(0,(pic.shape[0])):\n",
    "    for j in range(0,(pic.shape[1])):\n",
    "        pic[i][j]=[0,0,0]"
   ]
  },
  {
   "cell_type": "code",
   "execution_count": 340,
   "metadata": {},
   "outputs": [],
   "source": [
    "#check the image\n",
    "cv2.imshow(\"demo\",pic)\n",
    "cv2.waitKey(100000)\n",
    "cv2.destroyAllWindows()\n"
   ]
  },
  {
   "cell_type": "code",
   "execution_count": 341,
   "metadata": {},
   "outputs": [],
   "source": [
    "#pattern to create\n",
    "import math\n",
    "for i in range(0,pic.shape[1]-1):\n",
    "    for j in range(0,pic.shape[0]-1):\n",
    "        for k in range (0,int(math.pow(pic.shape[0],1.6))):\n",
    "            a=math.pow(i-int((pic.shape[1]/2)),2)\n",
    "            b=math.pow(j-int((pic.shape[0]/2)),2)\n",
    "            if (a+b) == k:\n",
    "                if k%3==0: \n",
    "                    pic[j][i]=[255,0,0]\n",
    "                elif k%3==1:\n",
    "                    pic[j][i]=[0,255,0]\n",
    "                else:\n",
    "                    pic[j][i]=[0,0,255]"
   ]
  },
  {
   "cell_type": "code",
   "execution_count": 342,
   "metadata": {},
   "outputs": [],
   "source": [
    "#enlarge the image and display\n",
    "bigger = cv2.resize(pic, (624,524))\n",
    "cv2.imwrite(\"demo.png\",bigger)\n",
    "cv2.imshow(\"demo\",bigger)\n",
    "cv2.imwrite(\"demo.png\",bigger)\n",
    "cv2.waitKey(100000)\n",
    "cv2.destroyAllWindows()\n"
   ]
  },
  {
   "cell_type": "code",
   "execution_count": 343,
   "metadata": {},
   "outputs": [],
   "source": [
    "#capture image\n",
    "import cv2\n",
    "capture=cv2.VideoCapture(0)\n",
    "ret,picture=capture.read()\n",
    "capture.release()\n",
    "#black background \n",
    "for i in range(0,(picture.shape[0])):\n",
    "    for j in range(0,(picture.shape[1])):\n",
    "        picture[i][j]=[0,0,0]\n",
    "#create circles pattern \n",
    "for i in range(0,int(picture.shape[0]/2)):\n",
    "    if i%6==0:\n",
    "        cv2.circle(picture,(int(picture.shape[1]/2),int(picture.shape[0]/2)),i,[0,i,0],3)\n",
    "    elif i%6==2:\n",
    "        cv2.circle(picture,(int(picture.shape[1]/2),int(picture.shape[0]/2)),i+2,[i,0,0],4)\n",
    "    elif i%6==4:\n",
    "        cv2.circle(picture,(int(picture.shape[1]/2),int(picture.shape[0]/2)),i+4,[0,0,i],5)\n",
    "#display the image\n",
    "cv2.imshow(\"demo1\",picture)\n",
    "cv2.imwrite(\"demo1.png\",picture)\n",
    "cv2.waitKey(100000)\n",
    "cv2.destroyAllWindows()"
   ]
  },
  {
   "cell_type": "code",
   "execution_count": 344,
   "metadata": {},
   "outputs": [],
   "source": [
    "#capture image\n",
    "import cv2\n",
    "capture=cv2.VideoCapture(0)\n",
    "ret,picture=capture.read()\n",
    "capture.release()\n",
    "#black background \n",
    "for i in range(0,(picture.shape[0])):\n",
    "    for j in range(0,(picture.shape[1])):\n",
    "        picture[i][j]=[0,0,0]\n",
    "#gradient\n",
    "for i in range(0,(picture.shape[0])):\n",
    "    for j in range(0,(picture.shape[1])):\n",
    "        p1=(0,0)\n",
    "        p2=(j,i)\n",
    "        if i%2==0:\n",
    "            cv2.line(picture, p1, p2, (int(math.pow(i/1.2,0.85)), int(math.pow(j/1.2,0.85)), int(math.pow(i/1.2,0.85))), 3)\n",
    "#display the imag4\n",
    "cv2.imshow(\"demo2\",picture)\n",
    "cv2.imwrite(\"demo2.png\",picture)\n",
    "cv2.waitKey(100000)\n",
    "cv2.destroyAllWindows()\n"
   ]
  },
  {
   "cell_type": "code",
   "execution_count": 345,
   "metadata": {},
   "outputs": [],
   "source": [
    "#capture image\n",
    "import cv2\n",
    "capture=cv2.VideoCapture(0)\n",
    "ret,picture=capture.read()\n",
    "capture.release()\n",
    "#black background \n",
    "for i in range(0,(picture.shape[0])):\n",
    "    for j in range(0,(picture.shape[1])):\n",
    "        picture[i][j]=[0,0,0]\n",
    "#gradient\n",
    "for i in range(0,(picture.shape[0])):\n",
    "    for j in range(0,(picture.shape[1])):\n",
    "        p1=(0,0)\n",
    "        p2=(j,i)\n",
    "        if i%2==0:\n",
    "            cv2.line(picture, p1, p2, (int(math.pow(i/1.2,0.83)), int(math.pow(j/1.8,0.83)), int(math.pow(j/1.2,0.83))), 3)\n",
    "#display the imag4\n",
    "cv2.imshow(\"demo3\",picture)\n",
    "cv2.imwrite(\"demo3.png\",picture)\n",
    "cv2.waitKey(100000)\n",
    "cv2.destroyAllWindows()"
   ]
  },
  {
   "cell_type": "markdown",
   "metadata": {},
   "source": [
    "# Task 4.2-i: crop some part of 2 images\n"
   ]
  },
  {
   "cell_type": "code",
   "execution_count": 411,
   "metadata": {},
   "outputs": [],
   "source": [
    "import cv2\n",
    "capture=cv2.VideoCapture(0)\n",
    "ret,pi=capture.read()\n",
    "capture.release()\n",
    "cv2.imwrite(\"crop.png\",pi)\n",
    "pi=cv2.imread('crop.png')\n",
    "model = cv2.CascadeClassifier('haarcascade_frontalface_default.xml')\n",
    "face=model.detectMultiScale(pi)\n",
    "if  len(face) != 0 :\n",
    "    rec=cv2.rectangle(pi,(face[0][0],face[0][1]),(face[0][0]+face[0][2],face[0][1]+face[0][3]),[0,0,0],1)\n"
   ]
  },
  {
   "cell_type": "code",
   "execution_count": 412,
   "metadata": {},
   "outputs": [],
   "source": [
    "cv2.imshow(\"crop\",pi)\n",
    "cv2.waitKey(10000)\n",
    "cv2.destroyAllWindows()\n"
   ]
  },
  {
   "cell_type": "code",
   "execution_count": 413,
   "metadata": {},
   "outputs": [],
   "source": [
    "if  len(face) != 0 :\n",
    "    cpi=pi[face[0][1]:face[0][1]+face[0][3],face[0][0]:face[0][0]+face[0][2]]\n",
    "    cv2.imshow(\"crop\",cpi)\n",
    "    cv2.imwrite(\"ccrop.png\",cpi)\n",
    "    cv2.waitKey(10000)\n",
    "    cv2.destroyAllWindows()\n",
    "else:\n",
    "    print(\"no face detected\")"
   ]
  },
  {
   "cell_type": "markdown",
   "metadata": {},
   "source": [
    "# Task 4.2-ii: swap 2 parts of images"
   ]
  },
  {
   "cell_type": "code",
   "execution_count": 346,
   "metadata": {},
   "outputs": [
    {
     "data": {
      "text/plain": [
       "(524, 624, 3)"
      ]
     },
     "execution_count": 346,
     "metadata": {},
     "output_type": "execute_result"
    }
   ],
   "source": [
    "swap=cv2.imread('demo.png')\n",
    "swap1=cv2.imread('demo1.png')\n",
    "swap.shape\n"
   ]
  },
  {
   "cell_type": "code",
   "execution_count": 347,
   "metadata": {},
   "outputs": [],
   "source": [
    "s=swap1[0:480,0:320]\n",
    "swap[0:480,0:320]=s\n",
    "cv2.imshow(\"swap\",swap)\n",
    "cv2.imwrite(\"swap.png\",swap)\n",
    "cv2.waitKey(10000)\n",
    "cv2.destroyAllWindows()"
   ]
  },
  {
   "cell_type": "code",
   "execution_count": 348,
   "metadata": {},
   "outputs": [
    {
     "data": {
      "text/plain": [
       "(480, 640, 3)"
      ]
     },
     "execution_count": 348,
     "metadata": {},
     "output_type": "execute_result"
    }
   ],
   "source": [
    "swap=cv2.imread('demo.png')\n",
    "swap1=cv2.imread('demo1.png')\n",
    "swap1.shape\n"
   ]
  },
  {
   "cell_type": "code",
   "execution_count": 349,
   "metadata": {},
   "outputs": [],
   "source": [
    "s1=swap[0:270,0:600]\n",
    "swap1[0:270,30:630]=s1\n",
    "cv2.imshow(\"swap\",swap1)\n",
    "cv2.imwrite(\"swap1.png\",swap1)\n",
    "cv2.waitKey(10000)\n",
    "cv2.destroyAllWindows()"
   ]
  },
  {
   "cell_type": "markdown",
   "metadata": {},
   "source": [
    "# Task 4.3: Combining 2 images to form single image\n"
   ]
  },
  {
   "cell_type": "code",
   "execution_count": 350,
   "metadata": {},
   "outputs": [],
   "source": [
    "import numpy as np\n",
    "p1=cv2.imread('demo2.png')\n",
    "p1=cv2.resize(p1,(300,300))\n",
    "p2=cv2.imread('demo3.png')\n",
    "p2=cv2.resize(p2,(300,300))\n",
    "p3=np.hstack([p1,p2])\n",
    "p4=cv2.imread('demo1.png')\n",
    "p4=p4[0:int(p4.shape[1]/2),:]\n",
    "p4=cv2.resize(p4,(600,300))\n",
    "cv2.imshow(\"swap\",p3)\n",
    "#cv2.imwrite(\"swap1.png\",swap1)\n",
    "cv2.waitKey(10000)\n",
    "cv2.destroyAllWindows()\n",
    "\n",
    "p5=np.vstack([p4,p3])"
   ]
  },
  {
   "cell_type": "code",
   "execution_count": 351,
   "metadata": {},
   "outputs": [
    {
     "data": {
      "text/plain": [
       "(300, 600, 3)"
      ]
     },
     "execution_count": 351,
     "metadata": {},
     "output_type": "execute_result"
    }
   ],
   "source": [
    "p3.shape\n"
   ]
  },
  {
   "cell_type": "code",
   "execution_count": 352,
   "metadata": {},
   "outputs": [],
   "source": [
    "cv2.imshow(\"swap\",p5)\n",
    "#cv2.imwrite(\"swap1.png\",swap1)\n",
    "cv2.waitKey(10000)\n",
    "cv2.destroyAllWindows()\n"
   ]
  },
  {
   "cell_type": "code",
   "execution_count": null,
   "metadata": {},
   "outputs": [],
   "source": []
  }
 ],
 "metadata": {
  "kernelspec": {
   "display_name": "Python 3",
   "language": "python",
   "name": "python3"
  },
  "language_info": {
   "codemirror_mode": {
    "name": "ipython",
    "version": 3
   },
   "file_extension": ".py",
   "mimetype": "text/x-python",
   "name": "python",
   "nbconvert_exporter": "python",
   "pygments_lexer": "ipython3",
   "version": "3.7.6"
  }
 },
 "nbformat": 4,
 "nbformat_minor": 4
}
